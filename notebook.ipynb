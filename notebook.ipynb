{
 "cells": [
  {
   "cell_type": "markdown",
   "metadata": {},
   "source": [
    "# Regresión lineal múltiple\n",
    "\n",
    "Cargar los datos del archivo `data_multiple_regression_exercice.csv` que corresponden a datos de medidas de circunferencias corporales y pesos:\n",
    "\n",
    "Se desea estudiar como depende la variable **weight** en función de las otras variables. "
   ]
  },
  {
   "cell_type": "code",
   "execution_count": 38,
   "metadata": {},
   "outputs": [
    {
     "data": {
      "text/html": [
       "<div>\n",
       "<style scoped>\n",
       "    .dataframe tbody tr th:only-of-type {\n",
       "        vertical-align: middle;\n",
       "    }\n",
       "\n",
       "    .dataframe tbody tr th {\n",
       "        vertical-align: top;\n",
       "    }\n",
       "\n",
       "    .dataframe thead th {\n",
       "        text-align: right;\n",
       "    }\n",
       "</style>\n",
       "<table border=\"1\" class=\"dataframe\">\n",
       "  <thead>\n",
       "    <tr style=\"text-align: right;\">\n",
       "      <th></th>\n",
       "      <th>weight</th>\n",
       "      <th>biacromial</th>\n",
       "      <th>pelvic.breadth</th>\n",
       "      <th>bitrochanteric</th>\n",
       "      <th>chest.depth</th>\n",
       "      <th>chest.diam</th>\n",
       "      <th>elbow.diam</th>\n",
       "      <th>wrist.diam</th>\n",
       "      <th>knee.diam</th>\n",
       "      <th>ankle.diam</th>\n",
       "      <th>...</th>\n",
       "      <th>hip.girth</th>\n",
       "      <th>thigh.girth</th>\n",
       "      <th>bicep.girth</th>\n",
       "      <th>forearm.girth</th>\n",
       "      <th>knee.girth</th>\n",
       "      <th>calf.girth</th>\n",
       "      <th>ankle.girth</th>\n",
       "      <th>wrist.girth</th>\n",
       "      <th>age</th>\n",
       "      <th>height</th>\n",
       "    </tr>\n",
       "  </thead>\n",
       "  <tbody>\n",
       "    <tr>\n",
       "      <td>count</td>\n",
       "      <td>507.000000</td>\n",
       "      <td>507.000000</td>\n",
       "      <td>507.000000</td>\n",
       "      <td>507.000000</td>\n",
       "      <td>507.000000</td>\n",
       "      <td>507.000000</td>\n",
       "      <td>507.000000</td>\n",
       "      <td>507.000000</td>\n",
       "      <td>507.000000</td>\n",
       "      <td>507.000000</td>\n",
       "      <td>...</td>\n",
       "      <td>507.000000</td>\n",
       "      <td>507.000000</td>\n",
       "      <td>507.000000</td>\n",
       "      <td>507.000000</td>\n",
       "      <td>507.000000</td>\n",
       "      <td>507.000000</td>\n",
       "      <td>507.000000</td>\n",
       "      <td>507.000000</td>\n",
       "      <td>507.000000</td>\n",
       "      <td>507.000000</td>\n",
       "    </tr>\n",
       "    <tr>\n",
       "      <td>mean</td>\n",
       "      <td>69.147535</td>\n",
       "      <td>38.811440</td>\n",
       "      <td>27.829980</td>\n",
       "      <td>31.980473</td>\n",
       "      <td>19.226036</td>\n",
       "      <td>27.973767</td>\n",
       "      <td>13.385207</td>\n",
       "      <td>10.542604</td>\n",
       "      <td>18.810651</td>\n",
       "      <td>13.863314</td>\n",
       "      <td>...</td>\n",
       "      <td>96.680868</td>\n",
       "      <td>56.855819</td>\n",
       "      <td>31.169625</td>\n",
       "      <td>25.942998</td>\n",
       "      <td>36.202959</td>\n",
       "      <td>36.078304</td>\n",
       "      <td>22.157396</td>\n",
       "      <td>16.097436</td>\n",
       "      <td>30.157396</td>\n",
       "      <td>171.143787</td>\n",
       "    </tr>\n",
       "    <tr>\n",
       "      <td>std</td>\n",
       "      <td>13.345762</td>\n",
       "      <td>3.059132</td>\n",
       "      <td>2.206308</td>\n",
       "      <td>2.030916</td>\n",
       "      <td>2.515877</td>\n",
       "      <td>2.741650</td>\n",
       "      <td>1.352906</td>\n",
       "      <td>0.944361</td>\n",
       "      <td>1.347595</td>\n",
       "      <td>1.247351</td>\n",
       "      <td>...</td>\n",
       "      <td>6.680623</td>\n",
       "      <td>4.459889</td>\n",
       "      <td>4.246941</td>\n",
       "      <td>2.830579</td>\n",
       "      <td>2.617570</td>\n",
       "      <td>2.847661</td>\n",
       "      <td>1.862337</td>\n",
       "      <td>1.380931</td>\n",
       "      <td>9.622772</td>\n",
       "      <td>9.407205</td>\n",
       "    </tr>\n",
       "    <tr>\n",
       "      <td>min</td>\n",
       "      <td>42.000000</td>\n",
       "      <td>32.400000</td>\n",
       "      <td>18.700000</td>\n",
       "      <td>24.700000</td>\n",
       "      <td>14.300000</td>\n",
       "      <td>22.200000</td>\n",
       "      <td>9.900000</td>\n",
       "      <td>8.100000</td>\n",
       "      <td>15.700000</td>\n",
       "      <td>9.900000</td>\n",
       "      <td>...</td>\n",
       "      <td>78.800000</td>\n",
       "      <td>46.300000</td>\n",
       "      <td>22.400000</td>\n",
       "      <td>19.600000</td>\n",
       "      <td>29.000000</td>\n",
       "      <td>28.400000</td>\n",
       "      <td>16.400000</td>\n",
       "      <td>13.000000</td>\n",
       "      <td>18.000000</td>\n",
       "      <td>147.200000</td>\n",
       "    </tr>\n",
       "    <tr>\n",
       "      <td>25%</td>\n",
       "      <td>58.400000</td>\n",
       "      <td>36.200000</td>\n",
       "      <td>26.500000</td>\n",
       "      <td>30.600000</td>\n",
       "      <td>17.300000</td>\n",
       "      <td>25.650000</td>\n",
       "      <td>12.400000</td>\n",
       "      <td>9.800000</td>\n",
       "      <td>17.900000</td>\n",
       "      <td>13.000000</td>\n",
       "      <td>...</td>\n",
       "      <td>92.000000</td>\n",
       "      <td>53.700000</td>\n",
       "      <td>27.600000</td>\n",
       "      <td>23.600000</td>\n",
       "      <td>34.400000</td>\n",
       "      <td>34.100000</td>\n",
       "      <td>21.000000</td>\n",
       "      <td>15.000000</td>\n",
       "      <td>23.000000</td>\n",
       "      <td>163.800000</td>\n",
       "    </tr>\n",
       "    <tr>\n",
       "      <td>50%</td>\n",
       "      <td>68.200000</td>\n",
       "      <td>38.700000</td>\n",
       "      <td>28.000000</td>\n",
       "      <td>32.000000</td>\n",
       "      <td>19.000000</td>\n",
       "      <td>27.800000</td>\n",
       "      <td>13.300000</td>\n",
       "      <td>10.500000</td>\n",
       "      <td>18.700000</td>\n",
       "      <td>13.800000</td>\n",
       "      <td>...</td>\n",
       "      <td>96.000000</td>\n",
       "      <td>56.300000</td>\n",
       "      <td>31.000000</td>\n",
       "      <td>25.800000</td>\n",
       "      <td>36.000000</td>\n",
       "      <td>36.000000</td>\n",
       "      <td>22.000000</td>\n",
       "      <td>16.100000</td>\n",
       "      <td>27.000000</td>\n",
       "      <td>170.300000</td>\n",
       "    </tr>\n",
       "    <tr>\n",
       "      <td>75%</td>\n",
       "      <td>78.850000</td>\n",
       "      <td>41.150000</td>\n",
       "      <td>29.250000</td>\n",
       "      <td>33.350000</td>\n",
       "      <td>20.900000</td>\n",
       "      <td>29.950000</td>\n",
       "      <td>14.400000</td>\n",
       "      <td>11.200000</td>\n",
       "      <td>19.600000</td>\n",
       "      <td>14.800000</td>\n",
       "      <td>...</td>\n",
       "      <td>101.000000</td>\n",
       "      <td>59.500000</td>\n",
       "      <td>34.450000</td>\n",
       "      <td>28.400000</td>\n",
       "      <td>37.950000</td>\n",
       "      <td>38.000000</td>\n",
       "      <td>23.300000</td>\n",
       "      <td>17.100000</td>\n",
       "      <td>36.000000</td>\n",
       "      <td>177.800000</td>\n",
       "    </tr>\n",
       "    <tr>\n",
       "      <td>max</td>\n",
       "      <td>116.400000</td>\n",
       "      <td>47.400000</td>\n",
       "      <td>34.700000</td>\n",
       "      <td>38.000000</td>\n",
       "      <td>27.500000</td>\n",
       "      <td>35.600000</td>\n",
       "      <td>16.700000</td>\n",
       "      <td>13.300000</td>\n",
       "      <td>24.300000</td>\n",
       "      <td>17.200000</td>\n",
       "      <td>...</td>\n",
       "      <td>128.300000</td>\n",
       "      <td>75.700000</td>\n",
       "      <td>42.400000</td>\n",
       "      <td>32.500000</td>\n",
       "      <td>49.000000</td>\n",
       "      <td>47.700000</td>\n",
       "      <td>29.300000</td>\n",
       "      <td>19.600000</td>\n",
       "      <td>67.000000</td>\n",
       "      <td>198.100000</td>\n",
       "    </tr>\n",
       "  </tbody>\n",
       "</table>\n",
       "<p>8 rows × 24 columns</p>\n",
       "</div>"
      ],
      "text/plain": [
       "           weight  biacromial  pelvic.breadth  bitrochanteric  chest.depth  \\\n",
       "count  507.000000  507.000000      507.000000      507.000000   507.000000   \n",
       "mean    69.147535   38.811440       27.829980       31.980473    19.226036   \n",
       "std     13.345762    3.059132        2.206308        2.030916     2.515877   \n",
       "min     42.000000   32.400000       18.700000       24.700000    14.300000   \n",
       "25%     58.400000   36.200000       26.500000       30.600000    17.300000   \n",
       "50%     68.200000   38.700000       28.000000       32.000000    19.000000   \n",
       "75%     78.850000   41.150000       29.250000       33.350000    20.900000   \n",
       "max    116.400000   47.400000       34.700000       38.000000    27.500000   \n",
       "\n",
       "       chest.diam  elbow.diam  wrist.diam   knee.diam  ankle.diam  ...  \\\n",
       "count  507.000000  507.000000  507.000000  507.000000  507.000000  ...   \n",
       "mean    27.973767   13.385207   10.542604   18.810651   13.863314  ...   \n",
       "std      2.741650    1.352906    0.944361    1.347595    1.247351  ...   \n",
       "min     22.200000    9.900000    8.100000   15.700000    9.900000  ...   \n",
       "25%     25.650000   12.400000    9.800000   17.900000   13.000000  ...   \n",
       "50%     27.800000   13.300000   10.500000   18.700000   13.800000  ...   \n",
       "75%     29.950000   14.400000   11.200000   19.600000   14.800000  ...   \n",
       "max     35.600000   16.700000   13.300000   24.300000   17.200000  ...   \n",
       "\n",
       "        hip.girth  thigh.girth  bicep.girth  forearm.girth  knee.girth  \\\n",
       "count  507.000000   507.000000   507.000000     507.000000  507.000000   \n",
       "mean    96.680868    56.855819    31.169625      25.942998   36.202959   \n",
       "std      6.680623     4.459889     4.246941       2.830579    2.617570   \n",
       "min     78.800000    46.300000    22.400000      19.600000   29.000000   \n",
       "25%     92.000000    53.700000    27.600000      23.600000   34.400000   \n",
       "50%     96.000000    56.300000    31.000000      25.800000   36.000000   \n",
       "75%    101.000000    59.500000    34.450000      28.400000   37.950000   \n",
       "max    128.300000    75.700000    42.400000      32.500000   49.000000   \n",
       "\n",
       "       calf.girth  ankle.girth  wrist.girth         age      height  \n",
       "count  507.000000   507.000000   507.000000  507.000000  507.000000  \n",
       "mean    36.078304    22.157396    16.097436   30.157396  171.143787  \n",
       "std      2.847661     1.862337     1.380931    9.622772    9.407205  \n",
       "min     28.400000    16.400000    13.000000   18.000000  147.200000  \n",
       "25%     34.100000    21.000000    15.000000   23.000000  163.800000  \n",
       "50%     36.000000    22.000000    16.100000   27.000000  170.300000  \n",
       "75%     38.000000    23.300000    17.100000   36.000000  177.800000  \n",
       "max     47.700000    29.300000    19.600000   67.000000  198.100000  \n",
       "\n",
       "[8 rows x 24 columns]"
      ]
     },
     "execution_count": 38,
     "metadata": {},
     "output_type": "execute_result"
    }
   ],
   "source": [
    "import pandas as pd\n",
    "\n",
    "df = pd.read_csv(\"data_multiple_regression_exercice.csv\")\n",
    "\n",
    "df.describe()"
   ]
  },
  {
   "cell_type": "markdown",
   "metadata": {},
   "source": [
    "## Ejercicio 1\n",
    "\n",
    "Separar el conjunto de registros en dos conjuntos de datos, uno para construir el modelo y otro para realizar las predicciones y evaluar los resultados."
   ]
  },
  {
   "cell_type": "code",
   "execution_count": 45,
   "metadata": {},
   "outputs": [],
   "source": [
    "from sklearn.model_selection import train_test_split\n",
    "\n",
    "# Separo la variable objetivo de las explicadas\n",
    "X, y = df.drop(['weight'], axis=1), df['weight']\n",
    "\n",
    "# Divido el conjunto en prueba y entrenamiento\n",
    "X_train, X_test, y_train, y_test = train_test_split(X, y, test_size=0.25)"
   ]
  },
  {
   "cell_type": "markdown",
   "metadata": {},
   "source": [
    "### Gráfico de densidad de los conjuntos"
   ]
  },
  {
   "cell_type": "code",
   "execution_count": 47,
   "metadata": {},
   "outputs": [
    {
     "data": {
      "image/png": "[encoded data removed]",
      "text/plain": [
       "<Figure size 432x288 with 1 Axes>"
      ]
     },
     "metadata": {
      "needs_background": "light"
     },
     "output_type": "display_data"
    }
   ],
   "source": [
    "import seaborn as sns\n",
    "import matplotlib.pyplot as plt\n",
    "\n",
    "sns.distplot(y_train, color='red', label='Train', hist=False)\n",
    "sns.distplot(y_test, color='blue', label='Test', hist=False)\n",
    "plt.show()"
   ]
  },
  {
   "cell_type": "markdown",
   "metadata": {},
   "source": [
    "## Box plot de los conjuntos"
   ]
  },
  {
   "cell_type": "code",
   "execution_count": 48,
   "metadata": {},
   "outputs": [
    {
     "data": {
      "image/png": "[encoded data removed]",
      "text/plain": [
       "<Figure size 720x288 with 2 Axes>"
      ]
     },
     "metadata": {
      "needs_background": "light"
     },
     "output_type": "display_data"
    }
   ],
   "source": [
    "import seaborn as sns\n",
    "import matplotlib.pyplot as plt\n",
    "\n",
    "plt.figure(figsize=(10,4))\n",
    "plt.subplot(1,2,1)\n",
    "plt.title('Train')\n",
    "sns.boxplot(y_train)\n",
    "\n",
    "plt.subplot(1,2,2)\n",
    "plt.title('Test')\n",
    "sns.boxplot(y_test)\n",
    "\n",
    "plt.show()"
   ]
  },
  {
   "cell_type": "markdown",
   "metadata": {},
   "source": [
    "## Ejercicio 2\n",
    "\n",
    "Realizar el modelo de regresión multiple con todas las variables involucradas y la validación del modelo."
   ]
  },
  {
   "cell_type": "code",
   "execution_count": 52,
   "metadata": {},
   "outputs": [
    {
     "data": {
      "text/plain": [
       "LinearRegression(copy_X=True, fit_intercept=True, n_jobs=None, normalize=False)"
      ]
     },
     "execution_count": 52,
     "metadata": {},
     "output_type": "execute_result"
    }
   ],
   "source": [
    "from sklearn import linear_model\n",
    "\n",
    "# Creo el modelo\n",
    "lm = linear_model.LinearRegression()\n",
    "# Ajusto los datos de entrenamiento\n",
    "lm.fit(X_train,y_train)"
   ]
  },
  {
   "cell_type": "markdown",
   "metadata": {},
   "source": [
    "### Valor de $R^2$"
   ]
  },
  {
   "cell_type": "code",
   "execution_count": 54,
   "metadata": {},
   "outputs": [
    {
     "data": {
      "text/plain": [
       "0.9789817823608105"
      ]
     },
     "execution_count": 54,
     "metadata": {},
     "output_type": "execute_result"
    }
   ],
   "source": [
    "# El método score devuelve el valor de R^2\n",
    "lm.score(X_test, y_test)"
   ]
  }
 ],
 "metadata": {
  "kernelspec": {
   "display_name": "Python 3",
   "language": "python",
   "name": "python3"
  },
  "language_info": {
   "codemirror_mode": {
    "name": "ipython",
    "version": 3
   },
   "file_extension": ".py",
   "mimetype": "text/x-python",
   "name": "python",
   "nbconvert_exporter": "python",
   "pygments_lexer": "ipython3",
   "version": "3.7.3"
  }
 },
 "nbformat": 4,
 "nbformat_minor": 4
}
